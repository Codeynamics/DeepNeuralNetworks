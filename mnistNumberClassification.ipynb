{
 "cells": [
  {
   "cell_type": "markdown",
   "id": "7e94191e-0b07-48ea-96fb-82158f0b4948",
   "metadata": {},
   "source": [
    "##### Import Libraries"
   ]
  },
  {
   "cell_type": "code",
   "execution_count": 52,
   "id": "d8fb32f7-0912-4963-a4d0-f4a06821a7f5",
   "metadata": {},
   "outputs": [],
   "source": [
    "import tensorflow as tf\n",
    "from keras import activations\n",
    "from sklearn.metrics import confusion_matrix, ConfusionMatrixDisplay\n",
    "import matplotlib.pyplot as plt\n",
    "import numpy as np"
   ]
  },
  {
   "cell_type": "markdown",
   "id": "7ff8b334-3052-43a2-9fa5-b8f6abd27186",
   "metadata": {},
   "source": [
    "##### Load Data & Normalize it"
   ]
  },
  {
   "cell_type": "code",
   "execution_count": 53,
   "id": "2eb63136-8f67-406e-9b9d-54b8b40c71a7",
   "metadata": {},
   "outputs": [],
   "source": [
    "mnist = tf.keras.datasets.mnist\n",
    "\n",
    "(xTrain, yTrain), (xTest, yTest) = mnist.load_data()\n",
    "\n",
    "xTrain, xTest = xTrain/255, xTest/255"
   ]
  },
  {
   "cell_type": "code",
   "execution_count": 54,
   "id": "7cbc483e-7813-425d-845d-3a2b51d1cb21",
   "metadata": {},
   "outputs": [
    {
     "data": {
      "text/plain": [
       "28"
      ]
     },
     "execution_count": 54,
     "metadata": {},
     "output_type": "execute_result"
    }
   ],
   "source": [
    "xShape = xTrain[0].shape[0]\n",
    "xShape"
   ]
  },
  {
   "cell_type": "code",
   "execution_count": 55,
   "id": "b2d08c6f-def0-4488-a9d3-f147766dc067",
   "metadata": {},
   "outputs": [
    {
     "name": "stdout",
     "output_type": "stream",
     "text": [
      "9\n"
     ]
    },
    {
     "data": {
      "image/png": "[encoded data removed]",
      "text/plain": [
       "<Figure size 640x480 with 1 Axes>"
      ]
     },
     "metadata": {},
     "output_type": "display_data"
    }
   ],
   "source": [
    "index = 42069\n",
    "print(yTrain[index])\n",
    "plt.imshow(xTrain[index], cmap = plt.cm.binary_r)\n",
    "plt.show()"
   ]
  },
  {
   "cell_type": "markdown",
   "id": "09823bc8-13b5-47b8-af9c-556661e187d3",
   "metadata": {},
   "source": [
    "##### Create DNN Model"
   ]
  },
  {
   "cell_type": "code",
   "execution_count": 56,
   "id": "18020fee-a8ee-46f9-b329-52e89f05fbd8",
   "metadata": {},
   "outputs": [],
   "source": [
    "model = tf.keras.models.Sequential()\n",
    "model.add(tf.keras.layers.Flatten(input_shape = (xShape, xShape)))"
   ]
  },
  {
   "cell_type": "markdown",
   "id": "e5899313-56a8-43a0-ad4e-0ed0f0905d3d",
   "metadata": {},
   "source": [
    "##### Add Hiddel Layers"
   ]
  },
  {
   "cell_type": "code",
   "execution_count": 57,
   "id": "5628136c-5b45-407b-8773-6158aa02d102",
   "metadata": {},
   "outputs": [],
   "source": [
    "model.add(tf.keras.layers.Dense(128, activation = activations.relu))\n",
    "model.add(tf.keras.layers.Dense(128, activation = activations.relu))"
   ]
  },
  {
   "cell_type": "markdown",
   "id": "46d04b11-3a07-47b8-88e1-30abb4894282",
   "metadata": {},
   "source": [
    "##### Add Output Layer"
   ]
  },
  {
   "cell_type": "code",
   "execution_count": 58,
   "id": "37f8f125-ec22-4c6b-a889-149538115541",
   "metadata": {},
   "outputs": [],
   "source": [
    "model.add(tf.keras.layers.Dense(10, activation = activations.softmax))"
   ]
  },
  {
   "cell_type": "markdown",
   "id": "90f5dd5a-a22a-4cc7-9edb-e6da2a07a32f",
   "metadata": {},
   "source": [
    "##### Compile DNN Model"
   ]
  },
  {
   "cell_type": "code",
   "execution_count": 59,
   "id": "9ec81ad8-3af0-44b9-aad7-04fd3de22ab3",
   "metadata": {},
   "outputs": [],
   "source": [
    "model.compile(optimizer = 'adam',\n",
    "             loss = 'sparse_categorical_crossentropy',\n",
    "             metrics = ['Accuracy'])"
   ]
  },
  {
   "cell_type": "markdown",
   "id": "8cba595c-8b16-4205-a5c7-c1a4494ba31c",
   "metadata": {},
   "source": [
    "##### Train the DNN"
   ]
  },
  {
   "cell_type": "code",
   "execution_count": 60,
   "id": "8371a113-3d28-497b-99af-5999b4994b94",
   "metadata": {},
   "outputs": [
    {
     "name": "stdout",
     "output_type": "stream",
     "text": [
      "Epoch 1/3\n",
      "1875/1875 [==============================] - 4s 2ms/step - loss: 0.2322 - Accuracy: 0.9314\n",
      "Epoch 2/3\n",
      "1875/1875 [==============================] - 3s 2ms/step - loss: 0.0988 - Accuracy: 0.9705\n",
      "Epoch 3/3\n",
      "1875/1875 [==============================] - 3s 2ms/step - loss: 0.0678 - Accuracy: 0.9788\n"
     ]
    },
    {
     "data": {
      "text/plain": [
       "<keras.callbacks.History at 0x2809e0c1ae0>"
      ]
     },
     "execution_count": 60,
     "metadata": {},
     "output_type": "execute_result"
    }
   ],
   "source": [
    "model.fit(xTrain, yTrain, epochs = 3)"
   ]
  },
  {
   "cell_type": "code",
   "execution_count": 61,
   "id": "599f0a59-948a-4d02-95e8-a862e63887c9",
   "metadata": {},
   "outputs": [
    {
     "name": "stdout",
     "output_type": "stream",
     "text": [
      "313/313 [==============================] - 1s 2ms/step - loss: 0.0893 - Accuracy: 0.9715\n"
     ]
    }
   ],
   "source": [
    "validLoss, validAcc = model.evaluate(xTest, yTest)"
   ]
  },
  {
   "cell_type": "code",
   "execution_count": 63,
   "id": "aeb9b9a0-8df3-428e-8ae6-909969a77c4a",
   "metadata": {},
   "outputs": [
    {
     "name": "stdout",
     "output_type": "stream",
     "text": [
      "313/313 [==============================] - 0s 1ms/step\n"
     ]
    }
   ],
   "source": [
    "prediction = model.predict(xTest)"
   ]
  },
  {
   "cell_type": "code",
   "execution_count": 87,
   "id": "06be0127-b21f-46d9-9b46-ff9dc19761cb",
   "metadata": {},
   "outputs": [
    {
     "name": "stdout",
     "output_type": "stream",
     "text": [
      "Predicted = 1 || Actual = 1\n",
      "Correct\n"
     ]
    },
    {
     "data": {
      "image/png": "[encoded data removed]",
      "text/plain": [
       "<Figure size 640x480 with 1 Axes>"
      ]
     },
     "metadata": {},
     "output_type": "display_data"
    }
   ],
   "source": [
    "inx = 6969\n",
    "print(\"Predicted =\", np.argmax(prediction[inx]), \"|| Actual =\", yTest[inx])\n",
    "print(\"Correct\" if np.argmax(prediction[inx]) == yTest[inx] else \"Wrong\")\n",
    "\n",
    "plt.imshow(xTest[inx], cmap = plt.cm.binary_r)\n",
    "plt.show()"
   ]
  },
  {
   "cell_type": "code",
   "execution_count": 89,
   "id": "a361dd2b-6ec4-4367-83e2-743c8e240d3c",
   "metadata": {},
   "outputs": [],
   "source": [
    "model.save(\"imageModel.keras\")"
   ]
  },
  {
   "cell_type": "code",
   "execution_count": 91,
   "id": "e14fb96d-093c-4352-9535-6fc51a0be3f4",
   "metadata": {},
   "outputs": [],
   "source": [
    "imgModel = tf.keras.models.load_model(\"imageModel.keras\")"
   ]
  },
  {
   "cell_type": "code",
   "execution_count": 92,
   "id": "fde9b330-a72d-4d27-b291-0e3343dbe65b",
   "metadata": {},
   "outputs": [
    {
     "name": "stdout",
     "output_type": "stream",
     "text": [
      "313/313 [==============================] - 0s 1ms/step\n"
     ]
    }
   ],
   "source": [
    "nPred = imgModel.predict(xTest)"
   ]
  },
  {
   "cell_type": "code",
   "execution_count": 93,
   "id": "d9cdbf3f-cf7a-4d0c-9c71-c0228dc59139",
   "metadata": {},
   "outputs": [
    {
     "data": {
      "text/plain": [
       "<sklearn.metrics._plot.confusion_matrix.ConfusionMatrixDisplay at 0x2826199d630>"
      ]
     },
     "execution_count": 93,
     "metadata": {},
     "output_type": "execute_result"
    },
    {
     "data": {
      "image/png": "[encoded data removed]",
      "text/plain": [
       "<Figure size 640x480 with 2 Axes>"
      ]
     },
     "metadata": {},
     "output_type": "display_data"
    }
   ],
   "source": [
    "predLabels = np.argmax(prediction, axis=1)\n",
    "cm = confusion_matrix(yTest, predLabels)\n",
    "\n",
    "disp = ConfusionMatrixDisplay(confusion_matrix=cm, display_labels=np.arange(10))\n",
    "disp.plot(cmap=plt.cm.Blues_r)"
   ]
  },
  {
   "cell_type": "code",
   "execution_count": null,
   "id": "2419a672-46c6-4892-9b40-3fd109949272",
   "metadata": {},
   "outputs": [],
   "source": []
  }
 ],
 "metadata": {
  "kernelspec": {
   "display_name": "Python 3 (ipykernel)",
   "language": "python",
   "name": "python3"
  },
  "language_info": {
   "codemirror_mode": {
    "name": "ipython",
    "version": 3
   },
   "file_extension": ".py",
   "mimetype": "text/x-python",
   "name": "python",
   "nbconvert_exporter": "python",
   "pygments_lexer": "ipython3",
   "version": "3.10.16"
  }
 },
 "nbformat": 4,
 "nbformat_minor": 5
}
