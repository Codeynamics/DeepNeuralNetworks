{
 "cells": [
  {
   "cell_type": "code",
   "execution_count": null,
   "id": "afb17c30-bea3-430e-b162-e5349d9cefb7",
   "metadata": {},
   "outputs": [],
   "source": [
    "import os\n",
    "from PIL import Image\n",
    "\n",
    "import tensorflow as tf\n",
    "from tensorflow.keras.layers import Conv2D, MaxPool2D, Dense, InputLayer, Flatten, BatchNormalization\n",
    "import numpy as np\n",
    "import matplotlib.pyplot as plt\n",
    "plt.style.use('dark_background')\n",
    "import tensorflow_datasets as tfds"
   ]
  },
  {
   "cell_type": "code",
   "execution_count": null,
   "id": "686751a8-6a2d-4d0c-a61d-4da2046ef716",
   "metadata": {},
   "outputs": [],
   "source": [
    "# Define the folder paths\n",
    "data_dir = \"cell_images\"\n",
    "\n",
    "data = []\n",
    "labelNames = [\"Parasitized\", \"Uninfected\"]\n",
    "\n",
    "# Set parameters for the dataset\n",
    "img_height = 224\n",
    "img_width = 224\n",
    "\n",
    "# Load the training dataset\n",
    "dataset = tf.keras.utils.image_dataset_from_directory(\n",
    "    data_dir,\n",
    "    labels=\"inferred\",       # Automatically infer labels from subfolder names\n",
    "    label_mode=\"int\",        # Use integer labels (0 and 1 for binary classification)\n",
    "    image_size=(img_height, img_width), # Resize images to a uniform size\n",
    "    batch_size=32,   # Number of images per batch\n",
    "    shuffle=True             # Shuffle the dataset for training\n",
    ")\n",
    "\n",
    "# Create a normalization layer\n",
    "normalization_layer = tf.keras.layers.Rescaling(1./255)\n",
    "\n",
    "# Split dataset into training, validation and test sets \n",
    "train_split = 0.8\n",
    "val_split = 0.1\n",
    "test_split = 0.1\n",
    "\n",
    "print(\"Total images in one batch =\",len(dataset))\n",
    "\n",
    "train_dataset = dataset.take(int(train_split * len(dataset)))\n",
    "print(\"Number of training images =\", len(train_dataset))\n",
    "\n",
    "val_test_dataset = dataset.skip(int(train_split * len(dataset)))\n",
    "val_dataset = val_test_dataset.take(int(val_split * len(dataset)))\n",
    "print(\"Number of validation images =\", len(val_dataset))\n",
    "\n",
    "test_dataset = val_test_dataset.skip(int(val_split * len(dataset)))\n",
    "print(\"Number of testing images =\", len(test_dataset))\n",
    "\n",
    "train_dataset = train_dataset.map(lambda x, y: (normalization_layer(x), y))\n",
    "val_dataset = val_dataset.map(lambda x, y: (normalization_layer(x), y))\n",
    "test_dataset = test_dataset.map(lambda x, y: (normalization_layer(x), y))"
   ]
  },
  {
   "cell_type": "code",
   "execution_count": null,
   "id": "153cbd84-e8be-4d65-a646-a767d094c51a",
   "metadata": {},
   "outputs": [],
   "source": [
    "import matplotlib.pyplot as plt\n",
    "\n",
    "# Get one batch of images and labels\n",
    "for images, labels in train_dataset.take(1):  # Take one batch\n",
    "    image = images[0].numpy()  # Get the first image in the batch\n",
    "    label = labels[0].numpy()  # Get the corresponding label\n",
    "    break\n",
    "\n",
    "# Display the image\n",
    "plt.imshow(image)\n",
    "plt.title(f\"Label: {labelNames[label]}\")  # Display the label as title\n",
    "plt.axis(\"off\")\n",
    "plt.show()\n"
   ]
  },
  {
   "cell_type": "code",
   "execution_count": null,
   "id": "caa0909d-534d-450c-b3e5-a917351f6c3a",
   "metadata": {
    "scrolled": true
   },
   "outputs": [],
   "source": [
    "for images, labels in test_dataset.take(1):  # Take one batch\n",
    "    first_image = images[30].numpy()  # Extract the first image as a NumPy array\n",
    "    print(\"Shape of the first image:\", first_image.shape)  # Print its shape\n",
    "    print(\"Matrix representation of the first image:\\n\", first_image)  # Print the matrix\n",
    "    break"
   ]
  },
  {
   "cell_type": "code",
   "execution_count": null,
   "id": "044e556e-6fc5-41e9-a4c7-4cf195665ffb",
   "metadata": {},
   "outputs": [],
   "source": [
    "model = tf.keras.Sequential([\n",
    "    InputLayer(input_shape = (img_height,img_height,3)),\n",
    "    \n",
    "    Conv2D(filters=6, kernel_size=3, strides=1, padding='same', activation='relu'),\n",
    "    BatchNormalization(),\n",
    "    MaxPool2D(pool_size=2, strides=2),\n",
    "\n",
    "    Conv2D(filters=16, kernel_size=3, strides=1, padding='same', activation='relu'),\n",
    "    BatchNormalization(),\n",
    "    MaxPool2D(pool_size=2, strides=2),\n",
    "\n",
    "    Flatten(),\n",
    "    \n",
    "    Dense(100, activation = 'relu'),\n",
    "    BatchNormalization(),\n",
    "    Dense(10, activation = 'relu'),\n",
    "    BatchNormalization(),\n",
    "    Dense(1, activation = 'sigmoid'),\n",
    "])\n",
    "\n",
    "model.summary()"
   ]
  },
  {
   "cell_type": "code",
   "execution_count": null,
   "id": "b70f253d-a645-4deb-a159-7ec20e6efaf7",
   "metadata": {},
   "outputs": [],
   "source": [
    "model.compile(optimizer = tf.keras.optimizers.Adam(learning_rate=0.01),\n",
    "              loss = tf.keras.losses.BinaryCrossentropy(),\n",
    "              metrics = 'accuracy',\n",
    ")"
   ]
  },
  {
   "cell_type": "code",
   "execution_count": null,
   "id": "55331247-f04f-4a85-866b-9b7bcfa91918",
   "metadata": {
    "scrolled": true
   },
   "outputs": [],
   "source": [
    "history = model.fit(train_dataset, validation_data=val_dataset, epochs=60, verbose=1)"
   ]
  },
  {
   "cell_type": "code",
   "execution_count": null,
   "id": "f3367114-bf74-48d9-b63a-80552aa1a7d8",
   "metadata": {},
   "outputs": [],
   "source": [
    "plt.style.use('dark_background')\n",
    "plt.plot(history.history['loss'])\n",
    "plt.plot(history.history['val_loss'])\n",
    "plt.title('model loss')\n",
    "plt.ylim([0,5])\n",
    "plt.ylabel('loss')\n",
    "plt.xlabel('epoch')\n",
    "plt.legend(['train', 'val'])\n",
    "plt.show()"
   ]
  },
  {
   "cell_type": "code",
   "execution_count": null,
   "id": "1eeaaff7-67bd-4f06-be07-bc803b754c71",
   "metadata": {},
   "outputs": [],
   "source": [
    "plt.style.use('dark_background')\n",
    "plt.plot(history.history['accuracy'])\n",
    "plt.plot(history.history['val_accuracy'])\n",
    "plt.title('accuracy')\n",
    "plt.ylabel('accuracy')\n",
    "plt.xlabel('epoch')\n",
    "plt.legend(['train', 'val'])\n",
    "plt.show()"
   ]
  },
  {
   "cell_type": "code",
   "execution_count": null,
   "id": "843cdf1a-bdf5-4ea9-beaa-24772c8fbe9f",
   "metadata": {},
   "outputs": [],
   "source": [
    "model.evaluate(test_dataset)"
   ]
  },
  {
   "cell_type": "code",
   "execution_count": null,
   "id": "232a39df-4736-413b-91b6-0a2eb6a1056f",
   "metadata": {},
   "outputs": [],
   "source": []
  }
 ],
 "metadata": {
  "kernelspec": {
   "display_name": "Python 3 (ipykernel)",
   "language": "python",
   "name": "python3"
  },
  "language_info": {
   "codemirror_mode": {
    "name": "ipython",
    "version": 3
   },
   "file_extension": ".py",
   "mimetype": "text/x-python",
   "name": "python",
   "nbconvert_exporter": "python",
   "pygments_lexer": "ipython3",
   "version": "3.9.21"
  }
 },
 "nbformat": 4,
 "nbformat_minor": 5
}
